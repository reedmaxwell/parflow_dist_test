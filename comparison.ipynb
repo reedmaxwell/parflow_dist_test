{
 "cells": [
  {
   "cell_type": "code",
   "execution_count": 1,
   "id": "0965762f-77fb-49a1-9f50-fcfe7fc21508",
   "metadata": {},
   "outputs": [],
   "source": [
    "from parflow import ParflowBinaryReader\n",
    "import numpy as np\n",
    "from pprint import pprint"
   ]
  },
  {
   "cell_type": "code",
   "execution_count": 2,
   "id": "49ab57ff-a6e3-4ce1-bd85-5da970f0e2e9",
   "metadata": {},
   "outputs": [
    {
     "name": "stdout",
     "output_type": "stream",
     "text": [
      "{'dx': 1000.0,\n",
      " 'dy': 1000.0,\n",
      " 'dz': 2.0,\n",
      " 'n_subgrids': 1,\n",
      " 'nx': 45,\n",
      " 'ny': 32,\n",
      " 'nz': 1,\n",
      " 'x': 0.0,\n",
      " 'y': 0.0,\n",
      " 'z': 0.0}\n",
      "[100]\n"
     ]
    }
   ],
   "source": [
    "py_pfb = ParflowBinaryReader('./lw.1km.slope_x.10x.py.pfb')\n",
    "py_pfb.compute_subgrid_info()\n",
    "pprint(py_pfb.read_header())\n",
    "print(py_pfb.subgrid_offsets)\n",
    "\n",
    "py_arr = py_pfb.read_all_subgrids()"
   ]
  },
  {
   "cell_type": "code",
   "execution_count": 3,
   "id": "d6d2d516-8c31-4bfc-a5cb-66ad2b2aede5",
   "metadata": {},
   "outputs": [
    {
     "name": "stdout",
     "output_type": "stream",
     "text": [
      "{'dx': -99999999.0,\n",
      " 'dy': -99999999.0,\n",
      " 'dz': -99999999.0,\n",
      " 'n_subgrids': 1,\n",
      " 'nx': 45,\n",
      " 'ny': 32,\n",
      " 'nz': 1,\n",
      " 'x': -99999999.0,\n",
      " 'y': -99999999.0,\n",
      " 'z': -99999999.0}\n",
      "[100]\n"
     ]
    }
   ],
   "source": [
    "tc_pfb = ParflowBinaryReader('./lw.1km.slope_x.10x.tcl.pfb')\n",
    "tc_pfb.compute_subgrid_info()\n",
    "pprint(tc_pfb.read_header())\n",
    "print(tc_pfb.subgrid_offsets)\n",
    "\n",
    "tc_arr = tc_pfb.read_all_subgrids()"
   ]
  },
  {
   "cell_type": "code",
   "execution_count": 4,
   "id": "fe4512d3-33f7-4076-ac75-d1445c26e25a",
   "metadata": {},
   "outputs": [
    {
     "data": {
      "text/plain": [
       "True"
      ]
     },
     "execution_count": 4,
     "metadata": {},
     "output_type": "execute_result"
    }
   ],
   "source": [
    "py_arr.shape == tc_arr.shape"
   ]
  },
  {
   "cell_type": "code",
   "execution_count": 5,
   "id": "88bfe330-ac61-4994-a22d-370af90af8b5",
   "metadata": {},
   "outputs": [
    {
     "data": {
      "text/plain": [
       "True"
      ]
     },
     "execution_count": 5,
     "metadata": {},
     "output_type": "execute_result"
    }
   ],
   "source": [
    "np.allclose(py_arr, tc_arr)"
   ]
  },
  {
   "cell_type": "code",
   "execution_count": null,
   "id": "726c05b2-2405-4d9a-8ac3-5b1a13b8485b",
   "metadata": {},
   "outputs": [],
   "source": []
  }
 ],
 "metadata": {
  "kernelspec": {
   "display_name": "all",
   "language": "python",
   "name": "all"
  },
  "language_info": {
   "codemirror_mode": {
    "name": "ipython",
    "version": 3
   },
   "file_extension": ".py",
   "mimetype": "text/x-python",
   "name": "python",
   "nbconvert_exporter": "python",
   "pygments_lexer": "ipython3",
   "version": "3.10.5"
  }
 },
 "nbformat": 4,
 "nbformat_minor": 5
}
