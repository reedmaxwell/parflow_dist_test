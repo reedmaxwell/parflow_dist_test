{
 "cells": [
  {
   "cell_type": "code",
   "execution_count": 19,
   "id": "0965762f-77fb-49a1-9f50-fcfe7fc21508",
   "metadata": {},
   "outputs": [],
   "source": [
    "from parflow import ParflowBinaryReader\n",
    "import numpy as np"
   ]
  },
  {
   "cell_type": "code",
   "execution_count": 5,
   "id": "49ab57ff-a6e3-4ce1-bd85-5da970f0e2e9",
   "metadata": {},
   "outputs": [],
   "source": [
    "py_pfb = ParflowBinaryReader('./lw.1km.slope_x.10x.py.pfb')\n",
    "py_pfb.compute_subgrid_info()\n",
    "print(py_pfb.read_header())\n",
    "print(py_pfb.subgrid_offsets)\n",
    "\n",
    "py_arr = py_pfb.read_all_subgrids()"
   ]
  },
  {
   "cell_type": "code",
   "execution_count": 22,
   "id": "f4cd8042-e52b-41cc-9a87-6cf435e1184b",
   "metadata": {},
   "outputs": [
    {
     "name": "stdout",
     "output_type": "stream",
     "text": [
      "{'x': -99999999.0, 'y': -99999999.0, 'z': -99999999.0, 'nx': 45, 'ny': 32, 'nz': 1, 'dx': -99999999.0, 'dy': -99999999.0, 'dz': -99999999.0, 'n_subgrids': 1}\n",
      "[100]\n"
     ]
    }
   ],
   "source": [
    "tc_pfb = ParflowBinaryReader('./lw.1km.slope_x.10x.tcl.pfb')\n",
    "tc_pfb.compute_subgrid_info()\n",
    "print(tc_pfb.read_header())\n",
    "print(tc_pfb.subgrid_offsets)"
   ]
  },
  {
   "cell_type": "code",
   "execution_count": 13,
   "id": "1511fe96-0379-4d54-8913-decdb35e3c2e",
   "metadata": {},
   "outputs": [],
   "source": [
    "tc_arr = tc_pfb.read_all_subgrids()"
   ]
  },
  {
   "cell_type": "code",
   "execution_count": 15,
   "id": "fe4512d3-33f7-4076-ac75-d1445c26e25a",
   "metadata": {},
   "outputs": [
    {
     "data": {
      "text/plain": [
       "(1, 32, 45)"
      ]
     },
     "execution_count": 15,
     "metadata": {},
     "output_type": "execute_result"
    }
   ],
   "source": [
    "py_arr.shape"
   ]
  },
  {
   "cell_type": "code",
   "execution_count": 16,
   "id": "ea6e4734-f172-43c1-b87b-344dee3d1392",
   "metadata": {},
   "outputs": [
    {
     "data": {
      "text/plain": [
       "(1, 32, 45)"
      ]
     },
     "execution_count": 16,
     "metadata": {},
     "output_type": "execute_result"
    }
   ],
   "source": [
    "tc_arr.shape"
   ]
  },
  {
   "cell_type": "code",
   "execution_count": 20,
   "id": "88bfe330-ac61-4994-a22d-370af90af8b5",
   "metadata": {},
   "outputs": [
    {
     "data": {
      "text/plain": [
       "0.0"
      ]
     },
     "execution_count": 20,
     "metadata": {},
     "output_type": "execute_result"
    }
   ],
   "source": [
    "np.sum(py_arr - tc_arr)"
   ]
  },
  {
   "cell_type": "code",
   "execution_count": null,
   "id": "57f9a15a-1a75-4000-ab76-4fadc6163518",
   "metadata": {},
   "outputs": [],
   "source": []
  }
 ],
 "metadata": {
  "kernelspec": {
   "display_name": "all",
   "language": "python",
   "name": "all"
  },
  "language_info": {
   "codemirror_mode": {
    "name": "ipython",
    "version": 3
   },
   "file_extension": ".py",
   "mimetype": "text/x-python",
   "name": "python",
   "nbconvert_exporter": "python",
   "pygments_lexer": "ipython3",
   "version": "3.10.5"
  }
 },
 "nbformat": 4,
 "nbformat_minor": 5
}
